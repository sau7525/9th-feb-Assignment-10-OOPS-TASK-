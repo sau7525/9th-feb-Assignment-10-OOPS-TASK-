{
 "cells": [
  {
   "cell_type": "code",
   "execution_count": null,
   "id": "3416cb5e-5836-4537-b384-f9fc156db1ca",
   "metadata": {},
   "outputs": [],
   "source": [
    "#ANS:1"
   ]
  },
  {
   "cell_type": "code",
   "execution_count": 4,
   "id": "d9f6c2d7-e520-4360-92fe-643b4fa8ec7f",
   "metadata": {},
   "outputs": [],
   "source": [
    "#a vehicle class with an init method having instance variables as name_of_vehicle, max_speed and average_of_vehicle.\n",
    "class vehicle:\n",
    "    def __init__(self, name_of_vehicle, max_speed, average_of_vehicle):\n",
    "        self.name_of_vehicle = name_of_vehicle\n",
    "        self.max_speed = max_speed\n",
    "        self.average_of_vehicle = average_of_vehicle"
   ]
  },
  {
   "cell_type": "code",
   "execution_count": null,
   "id": "d69d79a7-7c7c-4cbc-bf28-ebad76b40710",
   "metadata": {},
   "outputs": [],
   "source": [
    "#ANS:2"
   ]
  },
  {
   "cell_type": "code",
   "execution_count": null,
   "id": "aca27823-28c9-436b-aeb9-b6e239f6c7c7",
   "metadata": {},
   "outputs": [],
   "source": [
    "#a child class car from the vehicle class created in Que 1, which will inherit the vehicle class.\n",
    "# Create a method named seating_capacity which takes capacity as an argument and returns the name of the vehicle and its seating capacity.\n",
    "class car(vehicle):\n",
    "    def seating_capacity(self, capacity):\n",
    "        self.capacity = capacity\n",
    "        return self.name_of_vehicle, self.capacity"
   ]
  },
  {
   "cell_type": "code",
   "execution_count": null,
   "id": "49733111-90b3-4a1e-bbba-8cdc6c1aa994",
   "metadata": {},
   "outputs": [],
   "source": [
    "c1= car(\"Bugatti Bolide\", 310, 310)\n",
    "c1.seating_capacity(4)"
   ]
  },
  {
   "cell_type": "code",
   "execution_count": null,
   "id": "6731afdb-b811-4b7a-a38e-b3594587a44a",
   "metadata": {},
   "outputs": [],
   "source": []
  },
  {
   "cell_type": "code",
   "execution_count": 4,
   "id": "20d7b997-cf53-432d-985d-92702e4ede57",
   "metadata": {},
   "outputs": [],
   "source": [
    "#ANS:3"
   ]
  },
  {
   "cell_type": "code",
   "execution_count": 6,
   "id": "e43c54cc-7c48-4505-bb96-20eb16719fcd",
   "metadata": {},
   "outputs": [
    {
     "name": "stdout",
     "output_type": "stream",
     "text": [
      "Parent1 method1\n",
      "Parent2 method2\n"
     ]
    }
   ],
   "source": [
    "class Parent1:\n",
    "    def method1(self):\n",
    "        print(\"Parent1 method1\")\n",
    "\n",
    "class Parent2:\n",
    "    def method2(self):\n",
    "        print(\"Parent2 method2\")\n",
    "\n",
    "class Child(Parent1, Parent2):\n",
    "    pass\n",
    "\n",
    "c = Child()\n",
    "c.method1()\n",
    "c.method2()"
   ]
  },
  {
   "cell_type": "code",
   "execution_count": null,
   "id": "8fe04c02-448f-4910-a39f-8d422e82fafc",
   "metadata": {},
   "outputs": [],
   "source": [
    "#ANS:4"
   ]
  },
  {
   "cell_type": "code",
   "execution_count": 7,
   "id": "2a1ae90b-4fee-42c4-bea0-03ede14e246d",
   "metadata": {},
   "outputs": [
    {
     "name": "stdout",
     "output_type": "stream",
     "text": [
      "Saurabh Kumar\n",
      "Sid Sharma\n"
     ]
    }
   ],
   "source": [
    "class Person:\n",
    "    def __init__(self, name):\n",
    "        self._name = name\n",
    "\n",
    "    def get_name(self):\n",
    "        return self._name\n",
    "\n",
    "    def set_name(self, name):\n",
    "        self._name = name\n",
    "\n",
    "person = Person(\"Saurabh Kumar\")\n",
    "print(person.get_name()) \n",
    "person.set_name(\"Sid Sharma\")\n",
    "print(person.get_name()) "
   ]
  },
  {
   "cell_type": "code",
   "execution_count": null,
   "id": "0dcce1be-e69f-4ce9-8374-b205b8d87d35",
   "metadata": {},
   "outputs": [],
   "source": [
    "#ANS:5"
   ]
  },
  {
   "cell_type": "code",
   "execution_count": 8,
   "id": "d90370e9-5f16-4a8c-a22e-3e07f99b9976",
   "metadata": {},
   "outputs": [
    {
     "name": "stdout",
     "output_type": "stream",
     "text": [
      "200\n",
      "314.0\n"
     ]
    }
   ],
   "source": [
    "class Shape:\n",
    "    def area(self):\n",
    "        pass\n",
    "\n",
    "class Rectangle(Shape):\n",
    "    def __init__(self, width, height):\n",
    "        self.width = width\n",
    "        self.height = height\n",
    "\n",
    "    def area(self):\n",
    "        return self.width * self.height\n",
    "\n",
    "class Circle(Shape):\n",
    "    def __init__(self, radius):\n",
    "        self.radius = radius\n",
    "\n",
    "    def area(self):\n",
    "        return 3.14 * self.radius * self.radius\n",
    "\n",
    "rect = Rectangle(10, 20)\n",
    "print(rect.area()) # Output: 200\n",
    "\n",
    "circle = Circle(10)\n",
    "print(circle.area()) # Output: 314.0"
   ]
  },
  {
   "cell_type": "code",
   "execution_count": null,
   "id": "b3be79f3-79af-4e6d-bc20-18317fc9fc31",
   "metadata": {},
   "outputs": [],
   "source": []
  }
 ],
 "metadata": {
  "kernelspec": {
   "display_name": "Python 3 (ipykernel)",
   "language": "python",
   "name": "python3"
  },
  "language_info": {
   "codemirror_mode": {
    "name": "ipython",
    "version": 3
   },
   "file_extension": ".py",
   "mimetype": "text/x-python",
   "name": "python",
   "nbconvert_exporter": "python",
   "pygments_lexer": "ipython3",
   "version": "3.10.8"
  }
 },
 "nbformat": 4,
 "nbformat_minor": 5
}
